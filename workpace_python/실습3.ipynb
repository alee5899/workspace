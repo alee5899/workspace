{
 "cells": [
  {
   "cell_type": "code",
   "execution_count": 4,
   "metadata": {},
   "outputs": [],
   "source": [
    "# 아래의 딕셔너리 데이터를 참고하여 문제 해결\n",
    "student = {\n",
    "  'name' : 'hong',\n",
    "  'korScore' : 0,\n",
    "  'mathScore' : 0,\n",
    "}"
   ]
  },
  {
   "cell_type": "code",
   "execution_count": 5,
   "metadata": {},
   "outputs": [],
   "source": [
    "#1. 위에서 선언한 딕셔너리 데이터의 국어점수 및 수학점수 데이터를 키보드로 입력받은 데이터로 변경하시오\n",
    "student['korScore'] = int(input())\n",
    "student['mathScore'] = int(input())"
   ]
  },
  {
   "cell_type": "code",
   "execution_count": 6,
   "metadata": {},
   "outputs": [
    {
     "name": "stdout",
     "output_type": "stream",
     "text": [
      "{'name': 'hong', 'korScore': 30, 'mathScore': 50, 'totalScore': 80}\n"
     ]
    }
   ],
   "source": [
    "#2. 위의 딕셔너리 데이터에 총점(totalScore) 키를 추가하고, value의 값는 국어와 수학점수의 합으로 지정하시오. \n",
    "student['totalScore'] = student['korScore'] + student['mathScore']\n",
    "print(student)"
   ]
  },
  {
   "cell_type": "code",
   "execution_count": 7,
   "metadata": {},
   "outputs": [
    {
     "data": {
      "text/plain": [
       "256"
      ]
     },
     "execution_count": 7,
     "metadata": {},
     "output_type": "execute_result"
    }
   ],
   "source": [
    "scores = {\n",
    "  'korScore' : 90,\n",
    "  'engScore' : 80,\n",
    "  'mathScore' : 86\n",
    "}\n",
    "# 매개변수로 전달되는 학생점수 객체의 모든점수의 합을 리턴하는 함수를 선언하고 호출해보세요.\n",
    "def sum(a,b,c):\n",
    "  return a + b + c\n",
    "\n",
    "\n",
    "a = sum(scores['korScore'] , scores['engScore'] , scores['mathScore'] )\n",
    "a\n",
    "\n",
    "def getTotalScore(scores) :\n",
    "  result = 0\n",
    "  for e in scores:\n",
    "    result = result + scores[e]\n",
    "    \n",
    "  return result\n",
    " \n",
    "\n",
    "getTotalScore(scores)\n"
   ]
  },
  {
   "cell_type": "code",
   "execution_count": 8,
   "metadata": {},
   "outputs": [],
   "source": [
    "'''\n",
    "매개변수로 전달된 딕셔너리에 key와 value를 추가한 딕셔너리를 리턴하는 함수를 선언하고 호출하세요.\n",
    "첫번째 매개변수 : 딕셔너리\n",
    "두번째 매개변수 : 추가할 key\n",
    "세번째 매개변수 : 추가할 value\n",
    "'''\n",
    "\n",
    "def getDicData(dicData,newKey,newValue) :\n",
    "  dicData[newKey] = newValue\n",
    "  return dicData"
   ]
  },
  {
   "cell_type": "code",
   "execution_count": 9,
   "metadata": {},
   "outputs": [
    {
     "name": "stdout",
     "output_type": "stream",
     "text": [
      "{'name': 'hong', 'age': 45, 'addr': '땡땡시'}\n"
     ]
    }
   ],
   "source": [
    "preson = {\n",
    "  'name' : 'hong',\n",
    "  'age' : 45\n",
    "}\n",
    "\n",
    "result = getDicData(preson,'addr','땡땡시')\n",
    "print(result)"
   ]
  },
  {
   "cell_type": "code",
   "execution_count": 16,
   "metadata": {},
   "outputs": [],
   "source": [
    "# 매개변수로 두개의 리스트가 전달되면 짝수의 데이터만 갖는 함수 호출하고 선언\n",
    "def getEvenList(list1, list2):\n",
    "    list3 = list1 + list2  # 두 리스트 합치기\n",
    "    resultList = []  # 결과 리스트 초기화\n",
    "\n",
    "    for e in list3:\n",
    "        if e % 2 == 0:  # 짝수일 경우\n",
    "            resultList.append(e)  # 짝수를 결과 리스트에 추가\n",
    "\n",
    "    return resultList  # 최종 결과 반환\n"
   ]
  },
  {
   "cell_type": "code",
   "execution_count": 17,
   "metadata": {},
   "outputs": [
    {
     "data": {
      "text/plain": [
       "[2, 4, 10]"
      ]
     },
     "execution_count": 17,
     "metadata": {},
     "output_type": "execute_result"
    }
   ],
   "source": [
    "getEvenList([1,2,5],[4,7,10])"
   ]
  },
  {
   "cell_type": "code",
   "execution_count": 18,
   "metadata": {},
   "outputs": [],
   "source": [
    "# 매개변수로 문자열 리스트가 전달되면 리스트의 문자열과 문자열의 길이를 딕셔너리로 리턴하는 함수\n",
    "\n",
    "def getDicFromList(listData):\n",
    "  resultDic = {}\n",
    "  for e in listData :\n",
    "    resultDic[e] = len(e)\n",
    "\n",
    "  return resultDic\n"
   ]
  },
  {
   "cell_type": "code",
   "execution_count": 21,
   "metadata": {},
   "outputs": [
    {
     "data": {
      "text/plain": [
       "{'apple': 5, 'bannana': 7, 'orange': 6}"
      ]
     },
     "execution_count": 21,
     "metadata": {},
     "output_type": "execute_result"
    }
   ],
   "source": [
    "getDicFromList(['apple','bannana','orange'])"
   ]
  },
  {
   "cell_type": "code",
   "execution_count": null,
   "metadata": {},
   "outputs": [],
   "source": []
  }
 ],
 "metadata": {
  "kernelspec": {
   "display_name": "Python 3",
   "language": "python",
   "name": "python3"
  },
  "language_info": {
   "codemirror_mode": {
    "name": "ipython",
    "version": 3
   },
   "file_extension": ".py",
   "mimetype": "text/x-python",
   "name": "python",
   "nbconvert_exporter": "python",
   "pygments_lexer": "ipython3",
   "version": "3.13.2"
  }
 },
 "nbformat": 4,
 "nbformat_minor": 2
}
