{
 "cells": [
  {
   "cell_type": "code",
   "execution_count": null,
   "metadata": {},
   "outputs": [],
   "source": [
    "#딕셔너리 (dictionary)\n",
    "# 다수의 데이터를 key와 value의 한 쌍으로 저장한는 자료형"
   ]
  },
  {
   "cell_type": "code",
   "execution_count": 1,
   "metadata": {},
   "outputs": [
    {
     "name": "stdout",
     "output_type": "stream",
     "text": [
      "{'학번': 3, '이름': '이', '점수': 80}\n"
     ]
    }
   ],
   "source": [
    "# 딕셔너리 데이터를 생성\n",
    "dic = {} #빈 딕셔너리 데이터 생성\n",
    "dic2 = {\n",
    "  '학번' : 3,\n",
    "  '이름' : '김',\n",
    "  '점수' : 80,\n",
    "  '이름' : '이'\n",
    "}\n",
    "\n",
    "print(dic2)"
   ]
  },
  {
   "cell_type": "code",
   "execution_count": 4,
   "metadata": {},
   "outputs": [
    {
     "data": {
      "text/plain": [
       "3"
      ]
     },
     "execution_count": 4,
     "metadata": {},
     "output_type": "execute_result"
    }
   ],
   "source": [
    "# 딕셔너리 데이터 읽기\n",
    "dic2['학번']"
   ]
  },
  {
   "cell_type": "code",
   "execution_count": 6,
   "metadata": {},
   "outputs": [
    {
     "name": "stdout",
     "output_type": "stream",
     "text": [
      "{'modelName': 'S20', 'price': 999999, 'color': 'red'}\n",
      "{'modelName': 'S20', 'price': 5000, 'color': 'red'}\n"
     ]
    }
   ],
   "source": [
    "phone = {\n",
    "  'modelName' : 'S20',\n",
    "  'price' : 999999\n",
    "}\n",
    "\n",
    "# 딕셔너리 데이터 추가\n",
    "phone['color'] = 'red'\n",
    "print(phone)\n",
    "\n",
    "# 딕셔너리 데이터 변경\n",
    "phone['price'] = 5000\n",
    "print(phone)"
   ]
  },
  {
   "cell_type": "code",
   "execution_count": 9,
   "metadata": {},
   "outputs": [
    {
     "data": {
      "text/plain": [
       "{'brand': 'lg', 'price': 9999}"
      ]
     },
     "execution_count": 9,
     "metadata": {},
     "output_type": "execute_result"
    }
   ],
   "source": [
    "# 딕셔너리 데이터 삭제\n",
    "moniter = {\n",
    "  'brand' : 'lg',\n",
    "  'price' : 9999,\n",
    "  'color' : 'red'\n",
    "}\n",
    "\n",
    "# moniter 딕셔너리 데이터에서 color값을 삭제\n",
    "del moniter['color']\n",
    "\n",
    "moniter"
   ]
  },
  {
   "cell_type": "code",
   "execution_count": 18,
   "metadata": {},
   "outputs": [
    {
     "name": "stdout",
     "output_type": "stream",
     "text": [
      "key = brand, value = lg\n",
      "key = price, value = 9999\n",
      "key = color, value = red\n"
     ]
    }
   ],
   "source": [
    "moniter = {\n",
    "  'brand' : 'lg',\n",
    "  'price' : 9999,\n",
    "  'color' : 'red'\n",
    "}\n",
    "\n",
    "# 딕셔너리 데이터를 반복 돌리면 key 값만 나옴\n",
    "for e in moniter :\n",
    "  print(f'key = {e}, value = {moniter[e]}')\n"
   ]
  },
  {
   "cell_type": "code",
   "execution_count": 24,
   "metadata": {},
   "outputs": [],
   "source": [
    "member = {\n",
    "  '이름' : '홍길동',\n",
    "  '나이' : 20,\n",
    "  '취미' : ['운동','독서','등산'],\n",
    "  '가족' : [\n",
    "    {\n",
    "      '관계' :'아빠',\n",
    "      '이름' : '아'\n",
    "    },\n",
    "    {\n",
    "      '관계' :'엄마',\n",
    "      '이름' : '엄'\n",
    "    }\n",
    "    ]\n",
    "}"
   ]
  },
  {
   "cell_type": "code",
   "execution_count": 63,
   "metadata": {},
   "outputs": [
    {
     "name": "stdout",
     "output_type": "stream",
     "text": [
      "['운동', '독서', '등산']\n",
      "3\n",
      "등산\n",
      "아\n",
      "50\n"
     ]
    }
   ],
   "source": [
    "# member 딕셔너리에서 모든 취미 출력\n",
    "print(member['취미'])\n",
    "# member 딕셔너리에서 취미의 갯수를 출력\n",
    "print(len(member['취미']))\n",
    "# member 딕셔너리에서 마지막 취미를 출력\n",
    "print(member['취미'][2])\n",
    "# member 딕셔너리에서 아빠의 이름을 출력\n",
    "print(member['가족'][0]['이름'])\n",
    "# member 딕셔너리에서 엄마의 나이를 출력\n",
    "member['가족'][1]['나이'] = 50\n",
    "print(member['가족'][1]['나이'])"
   ]
  },
  {
   "cell_type": "code",
   "execution_count": null,
   "metadata": {},
   "outputs": [],
   "source": []
  },
  {
   "cell_type": "code",
   "execution_count": null,
   "metadata": {},
   "outputs": [],
   "source": []
  },
  {
   "cell_type": "code",
   "execution_count": null,
   "metadata": {},
   "outputs": [],
   "source": []
  },
  {
   "cell_type": "code",
   "execution_count": null,
   "metadata": {},
   "outputs": [],
   "source": []
  }
 ],
 "metadata": {
  "kernelspec": {
   "display_name": "Python 3",
   "language": "python",
   "name": "python3"
  },
  "language_info": {
   "codemirror_mode": {
    "name": "ipython",
    "version": 3
   },
   "file_extension": ".py",
   "mimetype": "text/x-python",
   "name": "python",
   "nbconvert_exporter": "python",
   "pygments_lexer": "ipython3",
   "version": "3.13.2"
  }
 },
 "nbformat": 4,
 "nbformat_minor": 2
}
