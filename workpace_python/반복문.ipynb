{
 "cells": [
  {
   "cell_type": "code",
   "execution_count": null,
   "metadata": {},
   "outputs": [],
   "source": [
    "#파이썬은 for-each문만 제공함.(일반 for문 없음)"
   ]
  },
  {
   "cell_type": "code",
   "execution_count": 3,
   "metadata": {},
   "outputs": [
    {
     "name": "stdout",
     "output_type": "stream",
     "text": [
      "반복문 실행 1\n",
      "반복문 실행 3\n",
      "반복문 실행 5\n"
     ]
    }
   ],
   "source": [
    "for e in [1,3,5] : \n",
    "  print('반복문 실행', end=' ')\n",
    "  print(e)"
   ]
  },
  {
   "cell_type": "code",
   "execution_count": 18,
   "metadata": {},
   "outputs": [
    {
     "name": "stdout",
     "output_type": "stream",
     "text": [
      "hello\n",
      "hello\n",
      "hello\n",
      "hello\n",
      "hello\n",
      "1\n",
      "0\n",
      "1\n",
      "1\n",
      "1\n",
      "2\n",
      "1\n",
      "3\n"
     ]
    }
   ],
   "source": [
    "#같은 코드를 단순히 반복 실행 시킬 때는 range() 사용한다\n",
    "#range(반복 시작 숫자, 반복) 마지막 숫자(포함안됨)\n",
    "for e in range(0,5) :\n",
    "  print('hello')\n",
    "\n",
    "  #range() 함수의 첫번째 인자로 0을 전달할때는 첫번재 인자를 생략해도 됨\n",
    "for e in range(4) :\n",
    "    print(1)\n",
    "    print(e)"
   ]
  },
  {
   "cell_type": "code",
   "execution_count": 24,
   "metadata": {},
   "outputs": [
    {
     "name": "stdout",
     "output_type": "stream",
     "text": [
      "i =  0, num  = 1\n",
      "i =  1, num  = 2\n",
      "i =  2, num  = 3\n",
      "i =  3, num  = 4\n",
      "i =  4, num  = 5\n"
     ]
    }
   ],
   "source": [
    "#반복의 index를 알고 싶다면 enumerate() 함수를 사용해야함\n",
    "list1 = [1,2,3,4,5]\n",
    "\n",
    "for i,num in enumerate(list1) :\n",
    "  print(f'i =  {i}, num  = {num}')"
   ]
  },
  {
   "cell_type": "code",
   "execution_count": null,
   "metadata": {},
   "outputs": [
    {
     "name": "stdout",
     "output_type": "stream",
     "text": [
      "helloword\n"
     ]
    }
   ],
   "source": [
    "#번외.키보드로 데이터 입력하기\n",
    "inputData = input('정수를 입력하세요')\n",
    "print(inputData)\n"
   ]
  },
  {
   "cell_type": "code",
   "execution_count": null,
   "metadata": {},
   "outputs": [],
   "source": []
  },
  {
   "cell_type": "code",
   "execution_count": null,
   "metadata": {},
   "outputs": [],
   "source": [
    "\n"
   ]
  }
 ],
 "metadata": {
  "kernelspec": {
   "display_name": "Python 3",
   "language": "python",
   "name": "python3"
  },
  "language_info": {
   "codemirror_mode": {
    "name": "ipython",
    "version": 3
   },
   "file_extension": ".py",
   "mimetype": "text/x-python",
   "name": "python",
   "nbconvert_exporter": "python",
   "pygments_lexer": "ipython3",
   "version": "3.13.2"
  }
 },
 "nbformat": 4,
 "nbformat_minor": 2
}
